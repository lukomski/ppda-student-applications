{
 "cells": [
  {
   "cell_type": "code",
   "execution_count": 1,
   "metadata": {},
   "outputs": [],
   "source": [
    "import matplotlib.pyplot as plt\n",
    "import pandas as pd\n",
    "import numpy as np\n",
    "import seaborn as sns\n",
    "\n",
    "import csv"
   ]
  },
  {
   "cell_type": "code",
   "execution_count": 2,
   "metadata": {},
   "outputs": [
    {
     "name": "stdout",
     "output_type": "stream",
     "text": [
      "Collecting nbformatNote: you may need to restart the kernel to use updated packages.\n",
      "\n",
      "  Downloading nbformat-5.9.0-py3-none-any.whl (77 kB)\n",
      "     ---------------------------------------- 77.6/77.6 kB 1.1 MB/s eta 0:00:00\n",
      "Collecting fastjsonschema\n",
      "  Downloading fastjsonschema-2.17.1-py3-none-any.whl (23 kB)\n",
      "Collecting jsonschema>=2.6\n",
      "  Downloading jsonschema-4.17.3-py3-none-any.whl (90 kB)\n",
      "     ---------------------------------------- 90.4/90.4 kB 1.7 MB/s eta 0:00:00\n",
      "Requirement already satisfied: jupyter-core in c:\\users\\pawelprogram\\.conda\\envs\\ppda\\lib\\site-packages (from nbformat) (5.3.0)\n",
      "Requirement already satisfied: traitlets>=5.1 in c:\\users\\pawelprogram\\.conda\\envs\\ppda\\lib\\site-packages (from nbformat) (5.9.0)\n",
      "Collecting attrs>=17.4.0\n",
      "  Downloading attrs-23.1.0-py3-none-any.whl (61 kB)\n",
      "     ---------------------------------------- 61.2/61.2 kB 1.6 MB/s eta 0:00:00\n",
      "Collecting pyrsistent!=0.17.0,!=0.17.1,!=0.17.2,>=0.14.0\n",
      "  Downloading pyrsistent-0.19.3-cp311-cp311-win_amd64.whl (62 kB)\n",
      "     ---------------------------------------- 62.7/62.7 kB 1.7 MB/s eta 0:00:00\n",
      "Requirement already satisfied: platformdirs>=2.5 in c:\\users\\pawelprogram\\.conda\\envs\\ppda\\lib\\site-packages (from jupyter-core->nbformat) (3.5.1)\n",
      "Requirement already satisfied: pywin32>=300 in c:\\users\\pawelprogram\\.conda\\envs\\ppda\\lib\\site-packages (from jupyter-core->nbformat) (305.1)\n",
      "Installing collected packages: fastjsonschema, pyrsistent, attrs, jsonschema, nbformat\n",
      "Successfully installed attrs-23.1.0 fastjsonschema-2.17.1 jsonschema-4.17.3 nbformat-5.9.0 pyrsistent-0.19.3\n"
     ]
    }
   ],
   "source": [
    "%pip install nbformat"
   ]
  }
 ],
 "metadata": {
  "kernelspec": {
   "display_name": "ppda",
   "language": "python",
   "name": "python3"
  },
  "language_info": {
   "codemirror_mode": {
    "name": "ipython",
    "version": 3
   },
   "file_extension": ".py",
   "mimetype": "text/x-python",
   "name": "python",
   "nbconvert_exporter": "python",
   "pygments_lexer": "ipython3",
   "version": "3.11.3"
  },
  "orig_nbformat": 4
 },
 "nbformat": 4,
 "nbformat_minor": 2
}
